{
 "cells": [
  {
   "cell_type": "markdown",
   "id": "688c9196-3ab9-41e5-ac89-b2eda5944d50",
   "metadata": {},
   "source": [
    "## Week 1 Resources"
   ]
  },
  {
   "cell_type": "markdown",
   "id": "19228264-7cd4-42b0-afb6-80a2b6b9a40a",
   "metadata": {},
   "source": [
    "hat brings you to the end of what you need to look at for Week 1. If you’re eager to learn more, before we go to Week 2, there are some great resources you can check out:\n",
    "\n",
    "AI For Everyone is a non-technical course that will help you understand many of the AI technologies we will discuss later in this course, and help you spot opportunities in applying this technology to solve your problems. https://www.deeplearning.ai/ai-for-everyone/\n",
    "TensorFlow is available at TensorFlow.org, and video updates from the TensorFlow team are at youtube.com/tensorflow\n",
    "Play with a neural network right in the browser at http://playground.tensorflow.org. See if you can figure out the parameters to get the neural network to pattern match to the desired groups. The spiral is particularly challenging!\n",
    "\n",
    "The 'Hello World' notebook that we used in this course is available on GitHub [here](https://github.com/lmoroney/dlaicourse). "
   ]
  }
 ],
 "metadata": {
  "kernelspec": {
   "display_name": "Python 3",
   "language": "python",
   "name": "python3"
  },
  "language_info": {
   "codemirror_mode": {
    "name": "ipython",
    "version": 3
   },
   "file_extension": ".py",
   "mimetype": "text/x-python",
   "name": "python",
   "nbconvert_exporter": "python",
   "pygments_lexer": "ipython3",
   "version": "3.8.5"
  }
 },
 "nbformat": 4,
 "nbformat_minor": 5
}
